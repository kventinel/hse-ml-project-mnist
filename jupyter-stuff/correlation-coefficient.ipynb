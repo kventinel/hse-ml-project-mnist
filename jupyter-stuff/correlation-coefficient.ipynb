{
 "cells": [
  {
   "cell_type": "markdown",
   "metadata": {},
   "source": [
    "# Correlation coefficient"
   ]
  },
  {
   "cell_type": "code",
   "execution_count": 63,
   "metadata": {},
   "outputs": [],
   "source": [
    "import os\n",
    "import sys\n",
    "\n",
    "import matplotlib.pyplot as plt\n",
    "import numpy as np\n",
    "import pandas as pd\n",
    "from sklearn.linear_model import LinearRegression\n",
    "\n",
    "sys.path.append(os.path.join(os.path.abspath(''), '..'))\n",
    "\n",
    "import constants"
   ]
  },
  {
   "cell_type": "code",
   "execution_count": 25,
   "metadata": {},
   "outputs": [],
   "source": [
    "train = pd.read_csv(constants.TRAIN)\n",
    "test = pd.read_csv(constants.TEST)"
   ]
  },
  {
   "cell_type": "code",
   "execution_count": 26,
   "metadata": {},
   "outputs": [
    {
     "data": {
      "text/html": [
       "<div>\n",
       "<style scoped>\n",
       "    .dataframe tbody tr th:only-of-type {\n",
       "        vertical-align: middle;\n",
       "    }\n",
       "\n",
       "    .dataframe tbody tr th {\n",
       "        vertical-align: top;\n",
       "    }\n",
       "\n",
       "    .dataframe thead th {\n",
       "        text-align: right;\n",
       "    }\n",
       "</style>\n",
       "<table border=\"1\" class=\"dataframe\">\n",
       "  <thead>\n",
       "    <tr style=\"text-align: right;\">\n",
       "      <th></th>\n",
       "      <th>Unnamed: 0</th>\n",
       "      <th>idx</th>\n",
       "      <th>mean</th>\n",
       "      <th>count</th>\n",
       "      <th>vert_symmetry</th>\n",
       "      <th>hor_symmetry</th>\n",
       "      <th>vert_mass_center</th>\n",
       "      <th>hor_mass_center</th>\n",
       "      <th>vert_viola</th>\n",
       "      <th>hor_viola</th>\n",
       "      <th>all_viola</th>\n",
       "      <th>label</th>\n",
       "    </tr>\n",
       "  </thead>\n",
       "  <tbody>\n",
       "    <tr>\n",
       "      <td>0</td>\n",
       "      <td>0</td>\n",
       "      <td>12628</td>\n",
       "      <td>26.538265</td>\n",
       "      <td>122</td>\n",
       "      <td>10.081633</td>\n",
       "      <td>-18.117347</td>\n",
       "      <td>14.299144</td>\n",
       "      <td>14.299385</td>\n",
       "      <td>-32.581633</td>\n",
       "      <td>-42.862245</td>\n",
       "      <td>19.836735</td>\n",
       "      <td>7</td>\n",
       "    </tr>\n",
       "    <tr>\n",
       "      <td>1</td>\n",
       "      <td>1</td>\n",
       "      <td>37730</td>\n",
       "      <td>40.753827</td>\n",
       "      <td>155</td>\n",
       "      <td>-2.125000</td>\n",
       "      <td>-11.864796</td>\n",
       "      <td>13.984069</td>\n",
       "      <td>14.207067</td>\n",
       "      <td>-23.267857</td>\n",
       "      <td>-77.915816</td>\n",
       "      <td>0.829082</td>\n",
       "      <td>3</td>\n",
       "    </tr>\n",
       "    <tr>\n",
       "      <td>2</td>\n",
       "      <td>2</td>\n",
       "      <td>39991</td>\n",
       "      <td>41.187500</td>\n",
       "      <td>176</td>\n",
       "      <td>0.323980</td>\n",
       "      <td>-4.267857</td>\n",
       "      <td>14.086804</td>\n",
       "      <td>13.838004</td>\n",
       "      <td>-35.079082</td>\n",
       "      <td>-76.956633</td>\n",
       "      <td>-24.625000</td>\n",
       "      <td>8</td>\n",
       "    </tr>\n",
       "    <tr>\n",
       "      <td>3</td>\n",
       "      <td>3</td>\n",
       "      <td>8525</td>\n",
       "      <td>38.184949</td>\n",
       "      <td>155</td>\n",
       "      <td>-2.043367</td>\n",
       "      <td>-2.477041</td>\n",
       "      <td>14.146140</td>\n",
       "      <td>13.564352</td>\n",
       "      <td>-48.140306</td>\n",
       "      <td>-76.369898</td>\n",
       "      <td>-13.706633</td>\n",
       "      <td>9</td>\n",
       "    </tr>\n",
       "    <tr>\n",
       "      <td>4</td>\n",
       "      <td>4</td>\n",
       "      <td>8279</td>\n",
       "      <td>48.011480</td>\n",
       "      <td>204</td>\n",
       "      <td>-6.772959</td>\n",
       "      <td>-21.385204</td>\n",
       "      <td>13.838341</td>\n",
       "      <td>14.332457</td>\n",
       "      <td>-21.022959</td>\n",
       "      <td>-74.385204</td>\n",
       "      <td>-24.446429</td>\n",
       "      <td>3</td>\n",
       "    </tr>\n",
       "    <tr>\n",
       "      <td>...</td>\n",
       "      <td>...</td>\n",
       "      <td>...</td>\n",
       "      <td>...</td>\n",
       "      <td>...</td>\n",
       "      <td>...</td>\n",
       "      <td>...</td>\n",
       "      <td>...</td>\n",
       "      <td>...</td>\n",
       "      <td>...</td>\n",
       "      <td>...</td>\n",
       "      <td>...</td>\n",
       "      <td>...</td>\n",
       "    </tr>\n",
       "    <tr>\n",
       "      <td>995</td>\n",
       "      <td>995</td>\n",
       "      <td>24023</td>\n",
       "      <td>49.288265</td>\n",
       "      <td>179</td>\n",
       "      <td>-12.688776</td>\n",
       "      <td>1.612245</td>\n",
       "      <td>13.566016</td>\n",
       "      <td>13.769448</td>\n",
       "      <td>-68.637755</td>\n",
       "      <td>-88.158163</td>\n",
       "      <td>2.275510</td>\n",
       "      <td>6</td>\n",
       "    </tr>\n",
       "    <tr>\n",
       "      <td>996</td>\n",
       "      <td>996</td>\n",
       "      <td>25697</td>\n",
       "      <td>15.947704</td>\n",
       "      <td>60</td>\n",
       "      <td>-0.640306</td>\n",
       "      <td>-19.854592</td>\n",
       "      <td>13.589698</td>\n",
       "      <td>14.413421</td>\n",
       "      <td>-14.966837</td>\n",
       "      <td>-31.895408</td>\n",
       "      <td>-10.094388</td>\n",
       "      <td>1</td>\n",
       "    </tr>\n",
       "    <tr>\n",
       "      <td>997</td>\n",
       "      <td>997</td>\n",
       "      <td>34049</td>\n",
       "      <td>35.149235</td>\n",
       "      <td>164</td>\n",
       "      <td>-10.558673</td>\n",
       "      <td>-9.573980</td>\n",
       "      <td>13.835577</td>\n",
       "      <td>14.277933</td>\n",
       "      <td>-48.966837</td>\n",
       "      <td>-67.589286</td>\n",
       "      <td>-20.778061</td>\n",
       "      <td>6</td>\n",
       "    </tr>\n",
       "    <tr>\n",
       "      <td>998</td>\n",
       "      <td>998</td>\n",
       "      <td>43215</td>\n",
       "      <td>48.392857</td>\n",
       "      <td>203</td>\n",
       "      <td>-0.750000</td>\n",
       "      <td>-10.158163</td>\n",
       "      <td>14.135240</td>\n",
       "      <td>14.335635</td>\n",
       "      <td>-50.530612</td>\n",
       "      <td>-78.086735</td>\n",
       "      <td>-36.336735</td>\n",
       "      <td>8</td>\n",
       "    </tr>\n",
       "    <tr>\n",
       "      <td>999</td>\n",
       "      <td>999</td>\n",
       "      <td>52840</td>\n",
       "      <td>31.145408</td>\n",
       "      <td>153</td>\n",
       "      <td>-11.193878</td>\n",
       "      <td>-0.668367</td>\n",
       "      <td>14.300352</td>\n",
       "      <td>13.764559</td>\n",
       "      <td>-7.484694</td>\n",
       "      <td>-49.852041</td>\n",
       "      <td>-5.602041</td>\n",
       "      <td>2</td>\n",
       "    </tr>\n",
       "  </tbody>\n",
       "</table>\n",
       "<p>1000 rows × 12 columns</p>\n",
       "</div>"
      ],
      "text/plain": [
       "     Unnamed: 0    idx       mean  count  vert_symmetry  hor_symmetry  \\\n",
       "0             0  12628  26.538265    122      10.081633    -18.117347   \n",
       "1             1  37730  40.753827    155      -2.125000    -11.864796   \n",
       "2             2  39991  41.187500    176       0.323980     -4.267857   \n",
       "3             3   8525  38.184949    155      -2.043367     -2.477041   \n",
       "4             4   8279  48.011480    204      -6.772959    -21.385204   \n",
       "..          ...    ...        ...    ...            ...           ...   \n",
       "995         995  24023  49.288265    179     -12.688776      1.612245   \n",
       "996         996  25697  15.947704     60      -0.640306    -19.854592   \n",
       "997         997  34049  35.149235    164     -10.558673     -9.573980   \n",
       "998         998  43215  48.392857    203      -0.750000    -10.158163   \n",
       "999         999  52840  31.145408    153     -11.193878     -0.668367   \n",
       "\n",
       "     vert_mass_center  hor_mass_center  vert_viola  hor_viola  all_viola  \\\n",
       "0           14.299144        14.299385  -32.581633 -42.862245  19.836735   \n",
       "1           13.984069        14.207067  -23.267857 -77.915816   0.829082   \n",
       "2           14.086804        13.838004  -35.079082 -76.956633 -24.625000   \n",
       "3           14.146140        13.564352  -48.140306 -76.369898 -13.706633   \n",
       "4           13.838341        14.332457  -21.022959 -74.385204 -24.446429   \n",
       "..                ...              ...         ...        ...        ...   \n",
       "995         13.566016        13.769448  -68.637755 -88.158163   2.275510   \n",
       "996         13.589698        14.413421  -14.966837 -31.895408 -10.094388   \n",
       "997         13.835577        14.277933  -48.966837 -67.589286 -20.778061   \n",
       "998         14.135240        14.335635  -50.530612 -78.086735 -36.336735   \n",
       "999         14.300352        13.764559   -7.484694 -49.852041  -5.602041   \n",
       "\n",
       "     label  \n",
       "0        7  \n",
       "1        3  \n",
       "2        8  \n",
       "3        9  \n",
       "4        3  \n",
       "..     ...  \n",
       "995      6  \n",
       "996      1  \n",
       "997      6  \n",
       "998      8  \n",
       "999      2  \n",
       "\n",
       "[1000 rows x 12 columns]"
      ]
     },
     "execution_count": 26,
     "metadata": {},
     "output_type": "execute_result"
    }
   ],
   "source": [
    "train"
   ]
  },
  {
   "cell_type": "code",
   "execution_count": 60,
   "metadata": {},
   "outputs": [],
   "source": [
    "x_feature = 'mean'\n",
    "y_feature = 'count'"
   ]
  },
  {
   "cell_type": "code",
   "execution_count": 61,
   "metadata": {},
   "outputs": [],
   "source": [
    "X_train = train[x_feature].values\n",
    "X_test = test[x_feature].values\n",
    "Y_train = train[y_feature].values\n",
    "Y_test = test[y_feature].values"
   ]
  },
  {
   "cell_type": "code",
   "execution_count": 62,
   "metadata": {},
   "outputs": [
    {
     "data": {
      "image/png": "[encoded data removed]",
      "text/plain": [
       "<Figure size 432x288 with 1 Axes>"
      ]
     },
     "metadata": {
      "needs_background": "light"
     },
     "output_type": "display_data"
    }
   ],
   "source": [
    "plt.plot(X_train, Y_train, 'o')\n",
    "plt.show()"
   ]
  },
  {
   "cell_type": "code",
   "execution_count": 65,
   "metadata": {},
   "outputs": [
    {
     "data": {
      "text/plain": [
       "LinearRegression(copy_X=True, fit_intercept=True, n_jobs=None, normalize=False)"
      ]
     },
     "execution_count": 65,
     "metadata": {},
     "output_type": "execute_result"
    }
   ],
   "source": [
    "model = LinearRegression()\n",
    "model.fit(X_train.reshape(-1, 1), Y_train.reshape(-1, 1))"
   ]
  },
  {
   "cell_type": "code",
   "execution_count": 67,
   "metadata": {},
   "outputs": [
    {
     "data": {
      "text/plain": [
       "array([[3.5836792]])"
      ]
     },
     "execution_count": 67,
     "metadata": {},
     "output_type": "execute_result"
    }
   ],
   "source": [
    "model.coef_"
   ]
  },
  {
   "cell_type": "code",
   "execution_count": 76,
   "metadata": {},
   "outputs": [
    {
     "name": "stdout",
     "output_type": "stream",
     "text": [
      "correlation coefficient: 0.9630931048114645\n"
     ]
    }
   ],
   "source": [
    "x_mean = np.mean(X_train)\n",
    "y_mean = np.mean(Y_train)\n",
    "cov = np.sum((X_train - x_mean) * (Y_train - y_mean))\n",
    "x_var = np.sum((X_train - x_mean) ** 2)\n",
    "y_var = np.sum((Y_train - y_mean) ** 2)\n",
    "cor = cov / np.sqrt(x_var * y_var)\n",
    "print('correlation coefficient:', cor)"
   ]
  },
  {
   "cell_type": "code",
   "execution_count": 102,
   "metadata": {},
   "outputs": [
    {
     "name": "stdout",
     "output_type": "stream",
     "text": [
      "determinacy coefficient: 0.9234620267287004\n"
     ]
    }
   ],
   "source": [
    "y_mean = np.mean(Y_test)\n",
    "y_var = np.sum((Y_test - y_mean) ** 2)\n",
    "pred_y = model.predict(X_test.reshape(-1, 1)).reshape(-1)\n",
    "pred_var = np.sum((pred_y - Y_test) ** 2)\n",
    "det = 1 - pred_var / y_var\n",
    "print('determinacy coefficient:', det)"
   ]
  }
 ],
 "metadata": {
  "kernelspec": {
   "display_name": "Python 3",
   "language": "python",
   "name": "python3"
  },
  "language_info": {
   "codemirror_mode": {
    "name": "ipython",
    "version": 3
   },
   "file_extension": ".py",
   "mimetype": "text/x-python",
   "name": "python",
   "nbconvert_exporter": "python",
   "pygments_lexer": "ipython3",
   "version": "3.7.5"
  }
 },
 "nbformat": 4,
 "nbformat_minor": 2
}
